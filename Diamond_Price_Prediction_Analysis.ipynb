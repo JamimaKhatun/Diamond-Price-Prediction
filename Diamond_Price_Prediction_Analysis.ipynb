{
 "cells": [
  {
   "cell_type": "markdown",
   "metadata": {},
   "source": [
    "# 💎 Diamond Price Prediction - Complete Analysis\n",
    "\n",
    "This notebook provides a comprehensive analysis of diamond price prediction using both traditional machine learning and deep learning approaches.\n",
    "\n",
    "## Table of Contents\n",
    "1. [Setup and Imports](#setup)\n",
    "2. [Data Loading and Exploration](#data)\n",
    "3. [Traditional Machine Learning Models](#ml)\n",
    "4. [Deep Learning Models](#dl)\n",
    "5. [Model Comparison](#comparison)\n",
    "6. [Feature Importance Analysis](#features)\n",
    "7. [Price Prediction Examples](#prediction)\n",
    "8. [Conclusions](#conclusions)"
   ]
  },
  {
   "cell_type": "markdown",
   "metadata": {},
   "source": [
    "## 1. Setup and Imports {#setup}"
   ]
  },
  {
   "cell_type": "code",
   "execution_count": null,
   "metadata": {},
   "outputs": [],
   "source": [
    "# Install required packages if not already installed\n",
    "import subprocess\n",
    "import sys\n",
    "\n",
    "def install_package(package):\n",
    "    try:\n",
    "        __import__(package)\n",
    "    except ImportError:\n",
    "        subprocess.check_call([sys.executable, \"-m\", \"pip\", \"install\", package])\n",
    "\n",
    "# Install required packages\n",
    "packages = ['pandas', 'numpy', 'scikit-learn', 'tensorflow', 'xgboost', \n",
    "           'matplotlib', 'seaborn', 'plotly', 'optuna', 'shap']\n",
    "\n",
    "for package in packages:\n",
    "    install_package(package)\n",
    "\n",
    "print(\"All packages installed successfully!\")"
   ]
  },
  {
   "cell_type": "code",
   "execution_count": null,
   "metadata": {},
   "outputs": [],
   "source": [
    "# Import libraries\n",
    "import pandas as pd\n",
    "import numpy as np\n",
    "import matplotlib.pyplot as plt\n",
    "import seaborn as sns\n",
    "import plotly.express as px\n",
    "import plotly.graph_objects as go\n",
    "from plotly.subplots import make_subplots\n",
    "import warnings\n",
    "warnings.filterwarnings('ignore')\n",
    "\n",
    "# Import our custom modules\n",
    "import sys\n",
    "import os\n",
    "sys.path.append('src')\n",
    "\n",
    "from diamond_predictor import DiamondPricePredictor\n",
    "\n",
    "# Set up plotting\n",
    "plt.style.use('seaborn-v0_8')\n",
    "plt.rcParams['figure.figsize'] = (12, 8)\n",
    "\n",
    "print(\"Setup completed successfully!\")"
   ]
  },
  {
   "cell_type": "markdown",
   "metadata": {},
   "source": [
    "## 2. Data Loading and Exploration {#data}"
   ]
  },
  {
   "cell_type": "code",
   "execution_count": null,
   "metadata": {},
   "outputs": [],
   "source": [
    "# Initialize the predictor\n",
    "predictor = DiamondPricePredictor()\n",
    "\n",
    "# Load and prepare data\n",
    "print(\"Loading diamond dataset...\")\n",
    "data = predictor.load_and_prepare_data(file_path=None, explore=True, visualize=True)\n",
    "\n",
    "print(f\"\\nDataset shape: {data.shape}\")\n",
    "print(f\"Columns: {list(data.columns)}\")"
   ]
  },
  {
   "cell_type": "code",
   "execution_count": null,
   "metadata": {},
   "outputs": [],
   "source": [
    "# Display first few rows\n",
    "print(\"First 10 rows of the dataset:\")\n",
    "data.head(10)"
   ]
  },
  {
   "cell_type": "code",
   "execution_count": null,
   "metadata": {},
   "outputs": [],
   "source": [
    "# Interactive price distribution\n",
    "fig = px.histogram(data, x='price', nbins=50, title='Diamond Price Distribution')\n",
    "fig.update_layout(xaxis_title='Price ($)', yaxis_title='Frequency')\n",
    "fig.show()\n",
    "\n",
    "# Price statistics\n",
    "print(f\"Price Statistics:\")\n",
    "print(f\"Mean: ${data['price'].mean():.2f}\")\n",
    "print(f\"Median: ${data['price'].median():.2f}\")\n",
    "print(f\"Std: ${data['price'].std():.2f}\")\n",
    "print(f\"Min: ${data['price'].min():.2f}\")\n",
    "print(f\"Max: ${data['price'].max():.2f}\")"
   ]
  },
  {
   "cell_type": "code",
   "execution_count": null,
   "metadata": {},
   "outputs": [],
   "source": [
    "# Interactive scatter plot: Carat vs Price\n",
    "fig = px.scatter(data, x='carat', y='price', color='cut', \n",
    "                title='Diamond Price vs Carat (colored by Cut)',\n",
    "                hover_data=['color', 'clarity'])\n",
    "fig.update_layout(xaxis_title='Carat', yaxis_title='Price ($)')\n",
    "fig.show()"
   ]
  },
  {
   "cell_type": "code",
   "execution_count": null,
   "metadata": {},
   "outputs": [],
   "source": [
    "# Categorical feature distributions\n",
    "fig = make_subplots(rows=2, cols=2, \n",
    "                    subplot_titles=['Cut Distribution', 'Color Distribution', \n",
    "                                   'Clarity Distribution', 'Price by Cut'],\n",
    "                    specs=[[{\"type\": \"bar\"}, {\"type\": \"bar\"}],\n",
    "                           [{\"type\": \"bar\"}, {\"type\": \"box\"}]])\n",
    "\n",
    "# Cut distribution\n",
    "cut_counts = data['cut'].value_counts()\n",
    "fig.add_trace(go.Bar(x=cut_counts.index, y=cut_counts.values, name='Cut'), row=1, col=1)\n",
    "\n",
    "# Color distribution\n",
    "color_counts = data['color'].value_counts()\n",
    "fig.add_trace(go.Bar(x=color_counts.index, y=color_counts.values, name='Color'), row=1, col=2)\n",
    "\n",
    "# Clarity distribution\n",
    "clarity_counts = data['clarity'].value_counts()\n",
    "fig.add_trace(go.Bar(x=clarity_counts.index, y=clarity_counts.values, name='Clarity'), row=2, col=1)\n",
    "\n",
    "# Price by cut (box plot)\n",
    "for cut_type in data['cut'].unique():\n",
    "    cut_data = data[data['cut'] == cut_type]['price']\n",
    "    fig.add_trace(go.Box(y=cut_data, name=cut_type), row=2, col=2)\n",
    "\n",
    "fig.update_layout(height=800, showlegend=False, title_text=\"Diamond Feature Distributions\")\n",
    "fig.show()"
   ]
  },
  {
   "cell_type": "markdown",
   "metadata": {},
   "source": [
    "## 3. Traditional Machine Learning Models {#ml}"
   ]
  },
  {
   "cell_type": "code",
   "execution_count": null,
   "metadata": {},
   "outputs": [],
   "source": [
    "# Train traditional ML models\n",
    "print(\"Training Traditional Machine Learning Models...\")\n",
    "ml_results = predictor.train_traditional_ml_models(optimize_best=True)\n",
    "\n",
    "# Display results summary\n",
    "print(predictor.ml_models.get_model_summary())"
   ]
  },
  {
   "cell_type": "code",
   "execution_count": null,
   "metadata": {},
   "outputs": [],
   "source": [
    "# Create ML results DataFrame for visualization\n",
    "ml_summary = []\n",
    "for name, results in ml_results.items():\n",
    "    ml_summary.append({\n",
    "        'Model': name,\n",
    "        'R² Score': results['test_r2'],\n",
    "        'RMSE': results['test_rmse'],\n",
    "        'MAE': results['test_mae']\n",
    "    })\n",
    "\n",
    "ml_df = pd.DataFrame(ml_summary).sort_values('R² Score', ascending=False)\n",
    "print(\"Traditional ML Model Performance:\")\n",
    "ml_df"
   ]
  },
  {
   "cell_type": "code",
   "execution_count": null,
   "metadata": {},
   "outputs": [],
   "source": [
    "# Interactive ML model comparison\n",
    "fig = make_subplots(rows=1, cols=2, \n",
    "                    subplot_titles=['R² Score Comparison', 'RMSE Comparison'])\n",
    "\n",
    "# R² Score\n",
    "fig.add_trace(go.Bar(x=ml_df['Model'], y=ml_df['R² Score'], \n",
    "                    name='R² Score', marker_color='lightblue'), row=1, col=1)\n",
    "\n",
    "# RMSE\n",
    "fig.add_trace(go.Bar(x=ml_df['Model'], y=ml_df['RMSE'], \n",
    "                    name='RMSE', marker_color='lightcoral'), row=1, col=2)\n",
    "\n",
    "fig.update_layout(height=500, showlegend=False, \n",
    "                 title_text=\"Traditional ML Model Performance\")\n",
    "fig.update_xaxes(tickangle=45)\n",
    "fig.show()"
   ]
  },
  {
   "cell_type": "markdown",
   "metadata": {},
   "source": [
    "## 4. Deep Learning Models {#dl}"
   ]
  },
  {
   "cell_type": "code",
   "execution_count": null,
   "metadata": {},
   "outputs": [],
   "source": [
    "# Train deep learning models\n",
    "print(\"Training Deep Learning Models...\")\n",
    "dl_results = predictor.train_deep_learning_models(epochs=50, batch_size=32)\n",
    "\n",
    "# Display results summary\n",
    "print(predictor.dl_models.get_model_summary())"
   ]
  },
  {
   "cell_type": "code",
   "execution_count": null,
   "metadata": {},
   "outputs": [],
   "source": [
    "# Create DL results DataFrame for visualization\n",
    "dl_summary = []\n",
    "for name, results in dl_results.items():\n",
    "    dl_summary.append({\n",
    "        'Model': name,\n",
    "        'R² Score': results['test_r2'],\n",
    "        'RMSE': results['test_rmse'],\n",
    "        'MAE': results['test_mae'],\n",
    "        'Epochs': results['epochs_trained']\n",
    "    })\n",
    "\n",
    "dl_df = pd.DataFrame(dl_summary).sort_values('R² Score', ascending=False)\n",
    "print(\"Deep Learning Model Performance:\")\n",
    "dl_df"
   ]
  },
  {
   "cell_type": "code",
   "execution_count": null,
   "metadata": {},
   "outputs": [],
   "source": [
    "# Interactive DL model comparison\n",
    "fig = make_subplots(rows=2, cols=2, \n",
    "                    subplot_titles=['R² Score', 'RMSE', 'MAE', 'Training Epochs'])\n",
    "\n",
    "# R² Score\n",
    "fig.add_trace(go.Bar(x=dl_df['Model'], y=dl_df['R² Score'], \n",
    "                    name='R² Score', marker_color='lightgreen'), row=1, col=1)\n",
    "\n",
    "# RMSE\n",
    "fig.add_trace(go.Bar(x=dl_df['Model'], y=dl_df['RMSE'], \n",
    "                    name='RMSE', marker_color='lightcoral'), row=1, col=2)\n",
    "\n",
    "# MAE\n",
    "fig.add_trace(go.Bar(x=dl_df['Model'], y=dl_df['MAE'], \n",
    "                    name='MAE', marker_color='lightyellow'), row=2, col=1)\n",
    "\n",
    "# Epochs\n",
    "fig.add_trace(go.Bar(x=dl_df['Model'], y=dl_df['Epochs'], \n",
    "                    name='Epochs', marker_color='lightpink'), row=2, col=2)\n",
    "\n",
    "fig.update_layout(height=800, showlegend=False, \n",
    "                 title_text=\"Deep Learning Model Performance\")\n",
    "fig.update_xaxes(tickangle=45)\n",
    "fig.show()"
   ]
  },
  {
   "cell_type": "markdown",
   "metadata": {},
   "source": [
    "## 5. Model Comparison {#comparison}"
   ]
  },
  {
   "cell_type": "code",
   "execution_count": null,
   "metadata": {},
   "outputs": [],
   "source": [
    "# Compare all models\n",
    "print(\"Comparing All Models...\")\n",
    "comparison_results = predictor.compare_all_models()\n",
    "\n",
    "print(\"\\nTop 10 Models:\")\n",
    "comparison_results.head(10)"
   ]
  },
  {
   "cell_type": "code",
   "execution_count": null,
   "metadata": {},
   "outputs": [],
   "source": [
    "# Interactive comprehensive comparison\n",
    "fig = make_subplots(rows=2, cols=2,\n",
    "                    subplot_titles=['R² Score by Model Type', 'RMSE Distribution', \n",
    "                                   'Top 10 Models', 'Performance Scatter'],\n",
    "                    specs=[[{\"type\": \"box\"}, {\"type\": \"histogram\"}],\n",
    "                           [{\"type\": \"bar\"}, {\"type\": \"scatter\"}]])\n",
    "\n",
    "# Box plot by model type\n",
    "for model_type in comparison_results['Type'].unique():\n",
    "    type_data = comparison_results[comparison_results['Type'] == model_type]\n",
    "    fig.add_trace(go.Box(y=type_data['R² Score'], name=model_type), row=1, col=1)\n",
    "\n",
    "# RMSE histogram\n",
    "fig.add_trace(go.Histogram(x=comparison_results['RMSE'], nbinsx=20, name='RMSE'), row=1, col=2)\n",
    "\n",
    "# Top 10 models\n",
    "top_10 = comparison_results.head(10)\n",
    "colors = ['gold' if i == 0 else 'silver' if i == 1 else '#CD7F32' if i == 2 else 'lightblue' \n",
    "          for i in range(len(top_10))]\n",
    "fig.add_trace(go.Bar(x=top_10['R² Score'], y=top_10['Model'], \n",
    "                    orientation='h', marker_color=colors, name='Top 10'), row=2, col=1)\n",
    "\n",
    "# Performance scatter\n",
    "ml_data = comparison_results[comparison_results['Type'] == 'Traditional ML']\n",
    "dl_data = comparison_results[comparison_results['Type'] == 'Deep Learning']\n",
    "\n",
    "fig.add_trace(go.Scatter(x=ml_data['R² Score'], y=ml_data['RMSE'], \n",
    "                        mode='markers', name='Traditional ML', \n",
    "                        marker=dict(size=10, color='blue')), row=2, col=2)\n",
    "fig.add_trace(go.Scatter(x=dl_data['R² Score'], y=dl_data['RMSE'], \n",
    "                        mode='markers', name='Deep Learning', \n",
    "                        marker=dict(size=10, color='red')), row=2, col=2)\n",
    "\n",
    "fig.update_layout(height=800, title_text=\"Comprehensive Model Comparison\")\n",
    "fig.show()"
   ]
  },
  {
   "cell_type": "code",
   "execution_count": null,
   "metadata": {},
   "outputs": [],
   "source": [
    "# Performance statistics by model type\n",
    "type_stats = comparison_results.groupby('Type').agg({\n",
    "    'R² Score': ['mean', 'std', 'min', 'max'],\n",
    "    'RMSE': ['mean', 'std', 'min', 'max'],\n",
    "    'MAE': ['mean', 'std', 'min', 'max']\n",
    "}).round(4)\n",
    "\n",
    "print(\"Performance Statistics by Model Type:\")\n",
    "type_stats"
   ]
  },
  {
   "cell_type": "markdown",
   "metadata": {},
   "source": [
    "## 6. Feature Importance Analysis {#features}"
   ]
  },
  {
   "cell_type": "code",
   "execution_count": null,
   "metadata": {},
   "outputs": [],
   "source": [
    "# Feature importance analysis\n",
    "print(\"Analyzing Feature Importance...\")\n",
    "importance_df = predictor.get_feature_importance_analysis()\n",
    "\n",
    "if importance_df is not None:\n",
    "    print(\"\\nFeature Importance Rankings:\")\n",
    "    importance_df['Mean'].sort_values(ascending=False)"
   ]
  },
  {
   "cell_type": "code",
   "execution_count": null,
   "metadata": {},
   "outputs": [],
   "source": [
    "# Interactive feature importance visualization\n",
    "if importance_df is not None:\n",
    "    fig = px.bar(x=importance_df['Mean'].values, \n",
    "                y=importance_df.index,\n",
    "                orientation='h',\n",
    "                title='Feature Importance Analysis',\n",
    "                labels={'x': 'Importance', 'y': 'Features'})\n",
    "    fig.update_layout(yaxis={'categoryorder': 'total ascending'})\n",
    "    fig.show()\n",
    "    \n",
    "    # Feature importance by model\n",
    "    importance_models = importance_df.drop('Mean', axis=1)\n",
    "    fig2 = px.imshow(importance_models.T, \n",
    "                    title='Feature Importance Heatmap by Model',\n",
    "                    labels={'x': 'Features', 'y': 'Models', 'color': 'Importance'})\n",
    "    fig2.show()"
   ]
  },
  {
   "cell_type": "markdown",
   "metadata": {},
   "source": [
    "## 7. Price Prediction Examples {#prediction}"
   ]
  },
  {
   "cell_type": "code",
   "execution_count": null,
   "metadata": {},
   "outputs": [],
   "source": [
    "# Example diamond predictions\n",
    "print(\"Diamond Price Prediction Examples\")\n",
    "print(\"=\" * 50)\n",
    "\n",
    "# Example 1: High-quality diamond\n",
    "diamond1 = {\n",
    "    'carat': 1.5,\n",
    "    'cut': 'Ideal',\n",
    "    'color': 'D',\n",
    "    'clarity': 'VVS1',\n",
    "    'depth': 61.5,\n",
    "    'table': 57.0,\n",
    "    'x': 7.3,\n",
    "    'y': 7.3,\n",
    "    'z': 4.5\n",
    "}\n",
    "\n",
    "print(\"\\nExample 1: High-Quality Diamond\")\n",
    "predictions1 = predictor.generate_prediction_report(diamond1)\n",
    "\n",
    "# Example 2: Medium-quality diamond\n",
    "diamond2 = {\n",
    "    'carat': 1.0,\n",
    "    'cut': 'Good',\n",
    "    'color': 'G',\n",
    "    'clarity': 'SI1',\n",
    "    'depth': 62.0,\n",
    "    'table': 58.0,\n",
    "    'x': 6.2,\n",
    "    'y': 6.2,\n",
    "    'z': 3.8\n",
    "}\n",
    "\n",
    "print(\"\\nExample 2: Medium-Quality Diamond\")\n",
    "predictions2 = predictor.generate_prediction_report(diamond2)\n",
    "\n",
    "# Example 3: Lower-quality diamond\n",
    "diamond3 = {\n",
    "    'carat': 0.5,\n",
    "    'cut': 'Fair',\n",
    "    'color': 'J',\n",
    "    'clarity': 'SI2',\n",
    "    'depth': 64.0,\n",
    "    'table': 60.0,\n",
    "    'x': 5.0,\n",
    "    'y': 5.0,\n",
    "    'z': 3.2\n",
    "}\n",
    "\n",
    "print(\"\\nExample 3: Lower-Quality Diamond\")\n",
    "predictions3 = predictor.generate_prediction_report(diamond3)"
   ]
  },
  {
   "cell_type": "code",
   "execution_count": null,
   "metadata": {},
   "outputs": [],
   "source": [
    "# Visualize prediction examples\n",
    "examples = ['High Quality', 'Medium Quality', 'Lower Quality']\n",
    "all_predictions = [predictions1, predictions2, predictions3]\n",
    "\n",
    "# Create comparison chart\n",
    "fig = go.Figure()\n",
    "\n",
    "model_types = list(predictions1.keys())\n",
    "colors = ['gold', 'silver', 'lightblue', 'lightgreen']\n",
    "\n",
    "for i, model_type in enumerate(model_types):\n",
    "    values = []\n",
    "    for preds in all_predictions:\n",
    "        pred_value = preds[model_type]\n",
    "        if isinstance(pred_value, np.ndarray):\n",
    "            pred_value = pred_value[0]\n",
    "        values.append(pred_value)\n",
    "    \n",
    "    fig.add_trace(go.Bar(\n",
    "        name=model_type,\n",
    "        x=examples,\n",
    "        y=values,\n",
    "        marker_color=colors[i % len(colors)]\n",
    "    ))\n",
    "\n",
    "fig.update_layout(\n",
    "    title='Diamond Price Predictions by Quality Level',\n",
    "    xaxis_title='Diamond Quality',\n",
    "    yaxis_title='Predicted Price ($)',\n",
    "    barmode='group'\n",
    ")\n",
    "\n",
    "fig.show()"
   ]
  },
  {
   "cell_type": "markdown",
   "metadata": {},
   "source": [
    "## 8. Interactive Prediction Widget"
   ]
  },
  {
   "cell_type": "code",
   "execution_count": null,
   "metadata": {},
   "outputs": [],
   "source": [
    "# Interactive prediction widget\n",
    "from ipywidgets import interact, FloatSlider, Dropdown, fixed\n",
    "import ipywidgets as widgets\n",
    "\n",
    "def predict_diamond_price(carat, cut, color, clarity, depth, table, x, y, z):\n",
    "    diamond_features = {\n",
    "        'carat': carat,\n",
    "        'cut': cut,\n",
    "        'color': color,\n",
    "        'clarity': clarity,\n",
    "        'depth': depth,\n",
    "        'table': table,\n",
    "        'x': x,\n",
    "        'y': y,\n",
    "        'z': z\n",
    "    }\n",
    "    \n",
    "    try:\n",
    "        prediction = predictor.predict_price(diamond_features, 'best')\n",
    "        if isinstance(prediction, np.ndarray):\n",
    "            prediction = prediction[0]\n",
    "        \n",
    "        print(f\"\\n💎 Diamond Characteristics:\")\n",
    "        for key, value in diamond_features.items():\n",
    "            print(f\"  {key.title()}: {value}\")\n",
    "        \n",
    "        print(f\"\\n💰 Predicted Price: ${prediction:,.2f}\")\n",
    "        \n",
    "        # Price category\n",
    "        if prediction < 1000:\n",
    "            category = \"Budget-Friendly\"\n",
    "        elif prediction < 5000:\n",
    "            category = \"Mid-Range\"\n",
    "        elif prediction < 15000:\n",
    "            category = \"Premium\"\n",
    "        else:\n",
    "            category = \"Luxury\"\n",
    "        \n",
    "        print(f\"📊 Price Category: {category}\")\n",
    "        \n",
    "    except Exception as e:\n",
    "        print(f\"Error making prediction: {str(e)}\")\n",
    "\n",
    "# Create interactive widget\n",
    "interact(predict_diamond_price,\n",
    "         carat=FloatSlider(min=0.2, max=5.0, step=0.1, value=1.0, description='Carat:'),\n",
    "         cut=Dropdown(options=['Fair', 'Good', 'Very Good', 'Premium', 'Ideal'], \n",
    "                     value='Good', description='Cut:'),\n",
    "         color=Dropdown(options=['D', 'E', 'F', 'G', 'H', 'I', 'J'], \n",
    "                       value='G', description='Color:'),\n",
    "         clarity=Dropdown(options=['FL', 'IF', 'VVS1', 'VVS2', 'VS1', 'VS2', 'SI1', 'SI2', 'I1'], \n",
    "                         value='VS1', description='Clarity:'),\n",
    "         depth=FloatSlider(min=55.0, max=70.0, step=0.1, value=61.5, description='Depth (%):'),\n",
    "         table=FloatSlider(min=50.0, max=70.0, step=0.1, value=57.0, description='Table (%):'),\n",
    "         x=FloatSlider(min=3.0, max=12.0, step=0.1, value=6.0, description='Length (mm):'),\n",
    "         y=FloatSlider(min=3.0, max=12.0, step=0.1, value=6.0, description='Width (mm):'),\n",
    "         z=FloatSlider(min=1.5, max=8.0, step=0.1, value=3.7, description='Height (mm):'))"
   ]
  },
  {
   "cell_type": "markdown",
   "metadata": {},
   "source": [
    "## 9. Model Saving and Loading"
   ]
  },
  {
   "cell_type": "code",
   "execution_count": null,
   "metadata": {},
   "outputs": [],
   "source": [
    "# Save all trained models\n",
    "print(\"Saving all trained models...\")\n",
    "predictor.save_all_models(directory=\"saved_models\")\n",
    "print(\"Models saved successfully!\")"
   ]
  },
  {
   "cell_type": "code",
   "execution_count": null,
   "metadata": {},
   "outputs": [],
   "source": [
    "# Example of loading models (for future use)\n",
    "# new_predictor = DiamondPricePredictor()\n",
    "# new_predictor.load_models(directory=\"saved_models\")\n",
    "# print(\"Models loaded successfully!\")"
   ]
  },
  {
   "cell_type": "markdown",
   "metadata": {},
   "source": [
    "## 10. Conclusions {#conclusions}\n",
    "\n",
    "### Key Findings:\n",
    "\n",
    "1. **Model Performance**: \n",
    "   - Both traditional ML and deep learning models achieved good performance\n",
    "   - Ensemble methods typically performed best\n",
    "   - XGBoost and Random Forest were top performers among traditional ML\n",
    "   - Neural networks with proper architecture showed competitive results\n",
    "\n",
    "2. **Feature Importance**:\n",
    "   - Carat weight is typically the most important feature\n",
    "   - Cut, color, and clarity significantly impact price\n",
    "   - Diamond dimensions (x, y, z) provide additional predictive power\n",
    "\n",
    "3. **Model Comparison**:\n",
    "   - Traditional ML models train faster and are more interpretable\n",
    "   - Deep learning models can capture complex non-linear relationships\n",
    "   - Ensemble approaches combining multiple models often yield best results\n",
    "\n",
    "4. **Practical Applications**:\n",
    "   - The models can be used for diamond price estimation\n",
    "   - Useful for jewelry retailers, appraisers, and consumers\n",
    "   - Can help identify overpriced or underpriced diamonds\n",
    "\n",
    "### Recommendations:\n",
    "\n",
    "1. **For Production Use**:\n",
    "   - Use ensemble methods for best accuracy\n",
    "   - Implement model monitoring and retraining\n",
    "   - Consider market conditions and temporal factors\n",
    "\n",
    "2. **For Further Improvement**:\n",
    "   - Collect more diverse and recent diamond data\n",
    "   - Include additional features (certification, fluorescence, etc.)\n",
    "   - Implement advanced ensemble techniques\n",
    "   - Consider market trends and economic factors\n",
    "\n",
    "3. **Model Selection**:\n",
    "   - Use XGBoost or Random Forest for interpretability\n",
    "   - Use neural networks for maximum accuracy\n",
    "   - Use ensemble for production systems\n",
    "\n",
    "This comprehensive analysis demonstrates the effectiveness of combining traditional machine learning with deep learning approaches for diamond price prediction, providing a robust foundation for real-world applications."
   ]
  }
 ],
 "metadata": {
  "kernelspec": {
   "display_name": "Python 3",
   "language": "python",
   "name": "python3"
  },
  "language_info": {
   "codemirror_mode": {
    "name": "ipython",
    "version": 3
   },
   "file_extension": ".py",
   "mimetype": "text/x-python",
   "name": "python",
   "nbconvert_exporter": "python",
   "pygments_lexer": "ipython3",
   "version": "3.8.0"
  }
 },
 "nbformat": 4,
 "nbformat_minor": 4
}